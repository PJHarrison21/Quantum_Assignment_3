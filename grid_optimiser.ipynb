{
 "cells": [
  {
   "cell_type": "markdown",
   "metadata": {},
   "source": [
    "# Grid optimisation for renewable enrgy grids using QAOA\n",
    "\n",
    "The following is an implemetatin of the Quantum Optimisation Approximation Algorithm (QAOA) for solving the Max Cut Problem for a given graph which represents an energy grid. \n",
    "\n",
    "The purpose of using the QAOA to solve the Max Cut problem on such a graph is to attempt to optimsie the layout and connectoins used in a renewable energy grid (represented as a graph) so as to minimsie the energy lost. This is done in an attempt to use near-quantum approach to further [Goal 7](https://sdgs.un.org/goals/goal7), afforadable and clean energy for all, of the United Nations (UN) [17 goals](https://sdgs.un.org/goals). The primary reason for attempting to optimise the layout of a renewable energy grid is to ensure that a minimal amount of the renewable energy created is lost as a consequence of transportation and storage of this energy.\n",
    "\n",
    "\n",
    "This implementation works for graphs of any size (any number of nodes) and encodes the grid system as a grpah where nodes represent either a generator (power producer), consumer (consumes certain amount of power) or neutral node (such as a transformer). The edges of these graphs are wieghted. These weights assigned to each edge represent the resistance of the connection between two given nodes.\n",
    "\n",
    "\n",
    "All the output of this notebook is in the ```out/``` directory for the sake of readibilty (there are lots of graphs)."
   ]
  },
  {
   "cell_type": "code",
   "execution_count": 3,
   "metadata": {},
   "outputs": [],
   "source": [
    "import pennylane as qml\n",
    "from pennylane import numpy as np\n",
    "import matplotlib.pyplot as plt\n",
    "import networkx as nx\n",
    "import os"
   ]
  },
  {
   "cell_type": "markdown",
   "metadata": {},
   "source": [
    "## Setup\n",
    "\n",
    "Please note that the edges specified in the ```EDGES``` array are formated as ```(i,j,r)``` for an edge from node `i` to node `j` with resistance `r`.\n",
    "\n",
    "\n",
    "### The relationship between the weight of an edge in the graph and the resistance of the connection\n",
    "\n",
    "The relatoinship between the weight of an edge in the graph which represents a grid and the resistance of the connection in the grid is as follows,\n",
    "\n",
    "$$\n",
    "\n",
    "w_{i,j} = \\frac{1}{r_{i,j}}\n",
    "\n",
    "$$\n",
    "\n",
    "where the the weight between nodes $i$ and $j$ is represented by $w_{i,j}$ and the resistance of the connection represented by this edge is given by the $r_{i,j}$ term.\n"
   ]
  },
  {
   "cell_type": "code",
   "execution_count": null,
   "metadata": {},
   "outputs": [],
   "source": [
    "NUM_LAYERS = 10\n",
    "STEPS = 250\n",
    "EDGES = [(0,1, 0.4), (1,2, 0.5), (1,3, 0.8), (1,4, 1)] # edges are formated (i,j,r)"
   ]
  },
  {
   "cell_type": "markdown",
   "metadata": {},
   "source": [
    "## Build the graph representing the given grid"
   ]
  },
  {
   "cell_type": "code",
   "execution_count": 5,
   "metadata": {},
   "outputs": [
    {
     "data": {
      "text/plain": [
       "{(0, 1): Text(-0.15052455474850412, 0.40584123615901735, '2.5'),\n",
       " (1, 2): Text(0.424458198576378, 0.26093670157188, '2.0'),\n",
       " (1, 3): Text(0.2605709998877723, -0.38023823469361584, '1.4285714285714286'),\n",
       " (1, 4): Text(-0.4827509717081062, -0.19227181045370234, '1.0')}"
      ]
     },
     "execution_count": 5,
     "metadata": {},
     "output_type": "execute_result"
    },
    {
     "data": {
      "image/png": "[encoded data removed]",
      "text/plain": [
       "<Figure size 640x480 with 1 Axes>"
      ]
     },
     "metadata": {},
     "output_type": "display_data"
    }
   ],
   "source": [
    "if EDGES == None:\n",
    "    EDGES = [(0,1)]\n",
    "\n",
    "if STEPS == None:\n",
    "    STEPS = 200\n",
    "\n",
    "if NUM_LAYERS == None:\n",
    "    NUM_LAYERS = 5\n",
    "\n",
    "graph = nx.Graph()\n",
    "\n",
    "for (i,j,r) in EDGES:\n",
    "    graph.add_edge(i, j, weight=(1/r))\n",
    "\n",
    "n_wires = len(graph)\n",
    "\n",
    "pos = nx.spring_layout(graph, seed=7)\n",
    "\n",
    "nx.draw(graph,pos, with_labels=True)\n",
    "edge_labels = nx.get_edge_attributes(graph, \"weight\")\n",
    "nx.draw_networkx_edge_labels(graph,pos, edge_labels)"
   ]
  },
  {
   "cell_type": "markdown",
   "metadata": {},
   "source": [
    "## Defining the cost and mixer Hamiltoians\n",
    " \n",
    "Below the cost Hamiltonian and Mixer Hamiltonian ($ H_M $ / ```mixer_H()```) that are used for the QAOA. It should be noted that the Mixer Hamilitonian is defined as follows, where N is the number of nodes in the grpah:\n",
    "\n",
    "$$ H_M = X_0 + X_1 + \\dots + X_N $$ \n",
    "\n",
    "The Cost Hamiltonian ($ H_C $ / ```cost_H()```), is defined slightly differently to the formula usually seen. $ H_C $ is defined as follows, where N again represents the number of nodes in the graph:\n",
    "\n",
    "$$ H_C = -w_{i,j} (Z_i \\otimes Z_j), \\;  \\forall \\; (i,j) \\in  EDGES $$\n",
    "\n",
    "Here the $w_{i,j}$ represents the weight of the edge between nodes $i$ and $j$, the weight of the edge is determined using the resistence and capacity of the edge, *this is further explained in the report*. The cost Hamilitonian is defined in this way (essentially the negatation of usual formula) as a minimising classical optimizer is used, namely a ```GradientDescentOptimizer```. Therefore the optimizer minimises the negated version given Cost Hamiltonian in order to maximise the given Cost Hamiltonian."
   ]
  },
  {
   "cell_type": "code",
   "execution_count": null,
   "metadata": {},
   "outputs": [],
   "source": [
    "def cost_H():\n",
    "\n",
    "    coeff = []\n",
    "    obs = []\n",
    "\n",
    "    for (i,j,w) in graph.edges:\n",
    "        coeff.append(w)           # co-eff needs to become weight of edge \n",
    "        obs.append((qml.PauliZ(i) @ qml.PauliZ(j)))\n",
    "\n",
    "    return qml.Hamiltonian(coeff, obs)\n",
    "\n",
    "def mixer_H():\n",
    "\n",
    "    coeff = []\n",
    "    obs = []\n",
    "\n",
    "    for edge in graph:\n",
    "        coeff.append(1)\n",
    "        obs.append(qml.PauliX(edge))\n",
    "\n",
    "    return qml.Hamiltonian(coeff,obs)"
   ]
  },
  {
   "cell_type": "markdown",
   "metadata": {},
   "source": [
    "## Defining the QAOA layer, circuit and Cost function\n",
    "\n",
    "First, we define the ```U_C(gamma)``` and ```U_M(beta)``` which are csot and mixer unitaries which are defined in order to apply the problem and mixer hamiltonians. For more information regarding how these functions are derived, please refer to section 3.1 and 3.3 of the report.\n",
    "\n",
    "Second, we define a single layer of the QAOA, by defining the function ```qaoa_layer(gamma,beta)```. This function simply applies the Problem Hamiltonian first followed by the Mixer Hamiltonian, using ```U_C(gamma)``` and ```U_M(beta)``` respectively. The alternating of the two unitaries discussed in 3.1 of the report, is achieved when this function is ultimately called in ```ciruit(params)``` multiple times.\n",
    "\n",
    "Third, we define the circuit to be used for the QAOA by defining the function ```circuit(params)```. Where ```params``` contains $ \\gamma $ and $ \\beta $ at index 0 and 1 of each row of ```params```, respetively. The function first creates the initial state, which is the superposition of all qubits (achieved by application of the Hadamard gate). This corresponds to step 1 in Section 3.3, Algorithm steps, of the report. The function then proceeds to apply the ```qaoa_layer(gamma,beta)``` function ```NUM_LAYERS``` times, passing in the $ \\gamma $ and $ \\beta $ values for that layer. This corresponds to step 2 in section 3.3 of the report.\n",
    "\n",
    "Finally the cost function is defined, which simply calls the ```circuit``` function and returns the expectation cost of the cost Hamiltonian as specified. This corresponds to step 4 in section 3.3 of the report."
   ]
  },
  {
   "cell_type": "code",
   "execution_count": null,
   "metadata": {},
   "outputs": [],
   "source": [
    "def U_C(gamma):\n",
    "    # iterate over each pair of edges in the graph and apply\n",
    "    # the cost unitary using a RZ gate sandwhiched between\n",
    "    # two CNOT gates, as described in equation 4 of the report \n",
    "    # (Section 3.3 step 2)\n",
    "    for edge in graph.edges:\n",
    "            wire1 = edge[0]\n",
    "            wire2 = edge[1]\n",
    "            qml.CNOT(wires=[wire1, wire2])\n",
    "            qml.RZ(-2*gamma, wires=wire2)\n",
    "            qml.CNOT(wires=[wire1, wire2])\n",
    "\n",
    "def U_M(beta):\n",
    "    # iterate over each node in the graph and apply the\n",
    "    # the mixer unitary using RX gate on each corresponding wire,\n",
    "    # as described in equation 5 of the report (Section 3.3 step 2)\n",
    "     for wire in range(n_wires):\n",
    "            qml.RX(2 * beta, wires=wire)\n",
    "\n",
    "def qaoa_layer(gamma,beta):\n",
    "     # apply the problem Hamilitonian with parameter Gamma\n",
    "     U_C(gamma)\n",
    "     # apply the mixer Hamiltonian with parameter Beta\n",
    "     U_M(beta)\n",
    "\n",
    "def circuit(params):\n",
    "    # create the initial state\n",
    "    for i in range(n_wires):\n",
    "        qml.Hadamard(i)\n",
    "\n",
    "    # run the qaoa_layer function, NUM_LAYERS times, passing 2 params needs\n",
    "    for i in range(NUM_LAYERS):\n",
    "         qaoa_layer(params[i,0],params[i,1])\n",
    "\n",
    "# define the device to run the quantum circuit on\n",
    "dev = qml.device(\"default.qubit\",wires=n_wires)\n",
    "\n",
    "@qml.qnode(dev)\n",
    "def cost_function(params):\n",
    "    # run the circuit with the given parameters (gamma and beta)\n",
    "    circuit(params)\n",
    "\n",
    "    # define the cost as the expectation value of the cost Hamilitonian\n",
    "    return qml.expval(cost_H())"
   ]
  }
 ],
 "metadata": {
  "kernelspec": {
   "display_name": ".venv",
   "language": "python",
   "name": "python3"
  },
  "language_info": {
   "codemirror_mode": {
    "name": "ipython",
    "version": 3
   },
   "file_extension": ".py",
   "mimetype": "text/x-python",
   "name": "python",
   "nbconvert_exporter": "python",
   "pygments_lexer": "ipython3",
   "version": "3.12.3"
  }
 },
 "nbformat": 4,
 "nbformat_minor": 2
}
